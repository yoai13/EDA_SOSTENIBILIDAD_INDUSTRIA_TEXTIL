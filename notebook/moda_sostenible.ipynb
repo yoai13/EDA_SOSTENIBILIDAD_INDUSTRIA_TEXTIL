{
 "cells": [
  {
   "cell_type": "markdown",
   "id": "24a6e4c7",
   "metadata": {},
   "source": [
    "# **ESTUDIO EXPLORATORIO DE DATOS (EDA) SOBRE LA SOSTENIBILIDAD EN LA INDUSTRIA TEXTIL**"
   ]
  },
  {
   "cell_type": "markdown",
   "id": "7513ca76",
   "metadata": {},
   "source": [
    "La sostenibilidad, el reciclaje de plásticos y el impacto ambiental de la industria textil son temas de gran importancia en la actualidad. Los textiles a base de plástico están en la intersección de estos temas.\n",
    "\n",
    "Con los datos encontrados podemos valorar las cantidades de diferentes tipos de plásticos utilizados, volúmenes de producción de textiles plásticos a lo largo del tiempo, empresas clave, ventas, precios, demanda por tipo de textil plástico (poliéster reciclado, nylon reciclado, etc.), segmentación de mercado, impacto ambiental (reducción de residuos plásticos, emisiones de carbono en comparación con textiles tradicionales, microplásticos liberados, etc,)"
   ]
  },
  {
   "cell_type": "markdown",
   "id": "450e7d5e",
   "metadata": {},
   "source": [
    "![imagen](https://www.datacolor.com/wp-content/uploads/2021/07/shutterstock_1474085432-900x500.jpg)"
   ]
  },
  {
   "cell_type": "markdown",
   "id": "7cbf0bae",
   "metadata": {},
   "source": [
    "## **HIPÓTESIS**\n",
    "\n",
    "* 1.- Las marcas con una calificación de sostenibilidad más alta tienden a tener una menor huella de carbono, menor uso de agua y menor producción de residuos.\n",
    "\n",
    "* 2.- La calificación de sostenibilidad promedio de las marcas ha mejorado con el tiempo.\n",
    "\n",
    "* 3.- La huella de carbono promedio, el uso de agua y la producción de residuos por marca han disminuido con el tiempo debido a avances tecnológicos y una mayor conciencia ambiental.\n",
    "\n",
    "* 4.- La proporción de marcas que adoptan prácticas de fabricación eco-friendly y ofrecen programas de reciclaje ha aumentado con el tiempo.\n",
    "\n",
    "* 5.- La huella de carbono promedio, el uso de agua promedio y de la producción de residuos promedio varían significativamente entre países.\n",
    "\n",
    "* 6.- La 'Market_Trend' de los productos podría variar según el país.\n",
    "\n",
    "* 7.- El nivel de sostenibilidad, inferido de la 'Sustainability_Rating', varía significativamente entre los diferentes países."
   ]
  }
 ],
 "metadata": {
  "kernelspec": {
   "display_name": "Python 3",
   "language": "python",
   "name": "python3"
  },
  "language_info": {
   "codemirror_mode": {
    "name": "ipython",
    "version": 3
   },
   "file_extension": ".py",
   "mimetype": "text/x-python",
   "name": "python",
   "nbconvert_exporter": "python",
   "pygments_lexer": "ipython3",
   "version": "3.11.9"
  }
 },
 "nbformat": 4,
 "nbformat_minor": 5
}
