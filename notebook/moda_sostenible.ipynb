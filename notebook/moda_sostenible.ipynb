{
 "cells": [
  {
   "cell_type": "markdown",
   "id": "24a6e4c7",
   "metadata": {},
   "source": [
    "# **ESTUDIO EXPLORATORIO DE DATOS (EDA) SOBRE LA SOSTENIBILIDAD EN LA INDUSTRIA TEXTIL**"
   ]
  },
  {
   "cell_type": "markdown",
   "id": "7513ca76",
   "metadata": {},
   "source": [
    "La sostenibilidad, el reciclaje de plásticos y el impacto ambiental de la industria textil son temas de gran importancia en la actualidad. Los textiles a base de plástico están en la intersección de estos temas.\n",
    "\n",
    "Con los datos encontrados podemos valorar las cantidades de diferentes tipos de plásticos utilizados, volúmenes de producción de textiles plásticos a lo largo del tiempo, empresas clave, ventas, precios, demanda por tipo de textil plástico (poliéster reciclado, nylon reciclado, etc.), segmentación de mercado, impacto ambiental (reducción de residuos plásticos, emisiones de carbono en comparación con textiles tradicionales, microplásticos liberados, etc,)"
   ]
  },
  {
   "cell_type": "markdown",
   "id": "450e7d5e",
   "metadata": {},
   "source": [
    "![imagen](https://www.datacolor.com/wp-content/uploads/2021/07/shutterstock_1474085432-900x500.jpg)"
   ]
  },
  {
   "cell_type": "markdown",
   "id": "7cbf0bae",
   "metadata": {},
   "source": [
    "## **HIPÓTESIS**\n",
    "\n",
    "* Las marcas con una calificación de sostenibilidad más alta tienden a tener una menor huella de carbono, menor uso de agua y menor producción de residuos.\n",
    "\n",
    "* Las marcas que adoptan prácticas de fabricación eco-friendly tienen una menor huella de carbono, uso de agua y producción de residuos en comparación con aquellas que no lo hacen.\n",
    "\n",
    "* Las marcas que implementan programas de reciclaje tienen una calificación de sostenibilidad más alta.\n",
    "\n",
    "* El tipo de material utilizado influye en el precio promedio de los productos. Algunos materiales reciclados o innovadores podrían ser más costosos.\n",
    "\n",
    "* La calificación de sostenibilidad promedio de las marcas ha mejorado con el tiempo.\n",
    "\n",
    "* La huella de carbono promedio, el uso de agua y la producción de residuos por marca han disminuido con el tiempo debido a avances tecnológicos y una mayor conciencia ambiental.\n",
    "\n",
    "* La proporción de marcas que adoptan prácticas de fabricación eco-friendly y ofrecen programas de reciclaje ha aumentado con el tiempo.\n",
    "\n",
    "* Existe una correlación entre la cantidad de gases de efecto invernadero emitidos y la cantidad de otros contaminantes emitidos por una empresa o un tipo de producto.\n",
    "\n",
    "* El consumo de agua y el consumo de energía por una empresa o un tipo de producto tienden a estar positivamente correlacionados."
   ]
  },
  {
   "cell_type": "markdown",
   "id": "c446988f",
   "metadata": {},
   "source": [
    "## HIPÓTESIS RELACIONADAS CON EL PAÍS\n",
    "\n",
    "* Hipótesis sobre la Huella de Carbono: \"La huella de carbono promedio de los productos varía significativamente entre países. Se podría esperar que los productos fabricados en países con una mayor dependencia de energías renovables en su matriz energética tengan una menor 'Carbon_Footprint_MT' promedio.\"\n",
    "\n",
    "* Hipótesis sobre el Uso de Agua: \"El uso promedio de agua en la producción difiere entre países debido a las diferentes tecnologías de fabricación y la disponibilidad de recursos hídricos. Por ejemplo, se podría hipotetizar que las marcas de países con estrés hídrico implementan procesos de producción con un menor 'Water_Usage_Liters' promedio.\"\n",
    "\n",
    "* Hipótesis sobre la Tendencia del Mercado: \"La 'Market_Trend' de los productos podría variar según el país. Por ejemplo, los productos de marcas de países con una creciente conciencia ecológica podrían mostrar una tendencia 'Creciente' en mayor proporción.\"\n",
    "\n",
    "* Hipótesis sobre el Precio Promedio: \"El 'Average_Price_USD' de los productos podría estar influenciado por el país de origen debido a diferencias en los costos de producción, regulaciones laborales y la percepción de la marca asociada al país.\"\n",
    "\n",
    "* Hipótesis de Disparidad: \"El nivel de sostenibilidad, inferido de la 'Sustainability_Rating', varía significativamente entre los diferentes países.\" (Podemos visualizar la distribución de las calificaciones por país).\n",
    "\n",
    "* Hipótesis de Producción de Residuos: \"El promedio de 'Waste_Production_KG' por marca varía entre los países.\" (Podemos comparar los promedios por país).\n",
    "\n",
    "* Hipótesis de Correlación entre Impactos: \"Existe una correlación entre diferentes métricas de impacto ambiental (por ejemplo, huella de carbono y uso de agua) a nivel de país.\" (Podemos calcular correlaciones agregadas por país)."
   ]
  }
 ],
 "metadata": {
  "kernelspec": {
   "display_name": "Python 3",
   "language": "python",
   "name": "python3"
  },
  "language_info": {
   "codemirror_mode": {
    "name": "ipython",
    "version": 3
   },
   "file_extension": ".py",
   "mimetype": "text/x-python",
   "name": "python",
   "nbconvert_exporter": "python",
   "pygments_lexer": "ipython3",
   "version": "3.11.9"
  }
 },
 "nbformat": 4,
 "nbformat_minor": 5
}
